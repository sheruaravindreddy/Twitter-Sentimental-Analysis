{
 "cells": [
  {
   "cell_type": "code",
   "execution_count": 2,
   "metadata": {},
   "outputs": [
    {
     "data": {
      "text/html": [
       "<div>\n",
       "<style scoped>\n",
       "    .dataframe tbody tr th:only-of-type {\n",
       "        vertical-align: middle;\n",
       "    }\n",
       "\n",
       "    .dataframe tbody tr th {\n",
       "        vertical-align: top;\n",
       "    }\n",
       "\n",
       "    .dataframe thead th {\n",
       "        text-align: right;\n",
       "    }\n",
       "</style>\n",
       "<table border=\"1\" class=\"dataframe\">\n",
       "  <thead>\n",
       "    <tr style=\"text-align: right;\">\n",
       "      <th></th>\n",
       "      <th>id</th>\n",
       "      <th>label</th>\n",
       "      <th>tweet</th>\n",
       "    </tr>\n",
       "  </thead>\n",
       "  <tbody>\n",
       "    <tr>\n",
       "      <th>0</th>\n",
       "      <td>1</td>\n",
       "      <td>0</td>\n",
       "      <td>user father dysfunctional selfish kids dysfunc...</td>\n",
       "    </tr>\n",
       "    <tr>\n",
       "      <th>1</th>\n",
       "      <td>2</td>\n",
       "      <td>0</td>\n",
       "      <td>user thanks lyft credit cause offer wheelchair...</td>\n",
       "    </tr>\n",
       "    <tr>\n",
       "      <th>2</th>\n",
       "      <td>3</td>\n",
       "      <td>0</td>\n",
       "      <td>majesty</td>\n",
       "    </tr>\n",
       "    <tr>\n",
       "      <th>3</th>\n",
       "      <td>4</td>\n",
       "      <td>0</td>\n",
       "      <td>model take time</td>\n",
       "    </tr>\n",
       "    <tr>\n",
       "      <th>4</th>\n",
       "      <td>5</td>\n",
       "      <td>0</td>\n",
       "      <td>factsguide society motivation</td>\n",
       "    </tr>\n",
       "  </tbody>\n",
       "</table>\n",
       "</div>"
      ],
      "text/plain": [
       "   id  label                                              tweet\n",
       "0   1      0  user father dysfunctional selfish kids dysfunc...\n",
       "1   2      0  user thanks lyft credit cause offer wheelchair...\n",
       "2   3      0                                            majesty\n",
       "3   4      0                                    model take time\n",
       "4   5      0                      factsguide society motivation"
      ]
     },
     "execution_count": 2,
     "metadata": {},
     "output_type": "execute_result"
    }
   ],
   "source": [
    "import pandas as pd\n",
    "from sklearn.model_selection import train_test_split\n",
    "\n",
    "from nltk.tokenize import word_tokenize\n",
    "\n",
    "import warnings\n",
    "warnings.filterwarnings('ignore')\n",
    "\n",
    "df = pd. read_csv('./Cleaned_Data.csv')\n",
    "df.dropna(inplace=True)\n",
    "df.head()"
   ]
  },
  {
   "cell_type": "code",
   "execution_count": 3,
   "metadata": {},
   "outputs": [],
   "source": [
    "X = df['tweet']\n",
    "Y = df['label']\n",
    "X_train, X_test, Y_train, Y_test = train_test_split(X, Y, test_size = 0.1)"
   ]
  },
  {
   "cell_type": "markdown",
   "metadata": {},
   "source": [
    "## Creating a Word2Vec model using gensim library"
   ]
  },
  {
   "cell_type": "code",
   "execution_count": 4,
   "metadata": {
    "scrolled": true
   },
   "outputs": [
    {
     "data": {
      "text/plain": [
       "(468332, 797755)"
      ]
     },
     "execution_count": 4,
     "metadata": {},
     "output_type": "execute_result"
    }
   ],
   "source": [
    "import gensim\n",
    "from gensim.models.word2vec import Word2Vec\n",
    "\n",
    "model = Word2Vec(size=100 , min_count=10)\n",
    "model.build_vocab([x.strip(' ').split() for x in X_train])\n",
    "model.train([x.strip(' ').split() for x in X_train], total_examples=model.corpus_count, epochs=model.epochs)"
   ]
  },
  {
   "cell_type": "code",
   "execution_count": 15,
   "metadata": {},
   "outputs": [
    {
     "data": {
      "text/plain": [
       "[('racist', 0.9895153045654297),\n",
       " ('obama', 0.982775866985321),\n",
       " ('comments', 0.9800493717193604),\n",
       " ('black', 0.9790303707122803),\n",
       " ('fuhered', 0.9789710640907288),\n",
       " ('canada', 0.9786760807037354),\n",
       " ('women', 0.9785375595092773),\n",
       " ('meets', 0.9783369302749634),\n",
       " ('snapshot', 0.9778761267662048),\n",
       " ('porn', 0.9766402244567871)]"
      ]
     },
     "execution_count": 15,
     "metadata": {},
     "output_type": "execute_result"
    }
   ],
   "source": [
    "model.most_similar('trump')"
   ]
  },
  {
   "cell_type": "markdown",
   "metadata": {},
   "source": [
    "### Saving the Word2vec model so as to load it again when required"
   ]
  },
  {
   "cell_type": "code",
   "execution_count": 6,
   "metadata": {},
   "outputs": [],
   "source": [
    "model.save('tweets_word2vec.model')"
   ]
  },
  {
   "cell_type": "code",
   "execution_count": 7,
   "metadata": {},
   "outputs": [],
   "source": [
    "Total_tweets_list = []\n",
    "for tweet in X_train:\n",
    "    tweet_words = word_tokenize(tweet)\n",
    "    Total_tweets_list.append(tweet_words)"
   ]
  },
  {
   "cell_type": "code",
   "execution_count": 11,
   "metadata": {},
   "outputs": [],
   "source": [
    "import math\n",
    "def tf_idf(words, word):\n",
    "    tf_count = 0.0\n",
    "    idf_count = 0.0\n",
    "    for i in words:\n",
    "        if i == word:\n",
    "            tf_count += 1\n",
    "    for tweet_words in Total_tweets_list:\n",
    "        if word in tweet_words:\n",
    "            idf_count += 1\n",
    "    return tf/len(words), math.log10(idf/len(Total_tweets_list));"
   ]
  },
  {
   "cell_type": "markdown",
   "metadata": {},
   "source": [
    "## Creating a Input Dataframe using TF-IDF to create a classification Model"
   ]
  },
  {
   "cell_type": "code",
   "execution_count": null,
   "metadata": {},
   "outputs": [],
   "source": [
    "input_dataframe = pd.DataFrame()\n",
    "for tweet in X_train:\n",
    "    words = tweet.split()\n",
    "    final_word_vector = [0 for i in range(100)]\n",
    "    for word in words:\n",
    "        try:\n",
    "            word_vector = (model['{}'.format(word)])\n",
    "            tf,idf = tf_idf(words, word)\n",
    "            word_vector = tf * idf * word_vector\n",
    "            final_word_vector = final_word_vector + word_vector\n",
    "        except:\n",
    "            pass\n",
    "    input_dataframe.append(pd.Series(final_word_vector), inplace = True)"
   ]
  }
 ],
 "metadata": {
  "kernelspec": {
   "display_name": "Python 3",
   "language": "python",
   "name": "python3"
  },
  "language_info": {
   "codemirror_mode": {
    "name": "ipython",
    "version": 3
   },
   "file_extension": ".py",
   "mimetype": "text/x-python",
   "name": "python",
   "nbconvert_exporter": "python",
   "pygments_lexer": "ipython3",
   "version": "3.6.5"
  }
 },
 "nbformat": 4,
 "nbformat_minor": 2
}

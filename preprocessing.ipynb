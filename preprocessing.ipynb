{
 "cells": [
  {
   "cell_type": "markdown",
   "metadata": {},
   "source": [
    "## Preprocessing the tweets to build a ML model for Setimental analysis\n",
    "#### Steps Followed :\n",
    "\n",
    "1) Loading the required modules pandas, nltk and the data from local machine\n",
    "\n",
    "2) Removing user handlles, non-alphabets using re\n",
    "\n",
    "3) Tags_list was loaded using the commented url and list of few supporting tags were gathered as del_tags to remove those words\n",
    "\n",
    "4) Stemming/ Lemmatization can also be done as part of preprocessing using PorterStemmer"
   ]
  },
  {
   "cell_type": "code",
   "execution_count": 1,
   "metadata": {},
   "outputs": [],
   "source": [
    "import pandas as pd\n",
    "import re\n",
    "\n",
    "import warnings\n",
    "warnings.filterwarnings('ignore')\n",
    "\n",
    "import nltk\n",
    "from nltk.stem.porter import PorterStemmer\n",
    "stemmer = PorterStemmer()\n",
    "\n",
    "from nltk.corpus import stopwords\n",
    "stop_words = stopwords.words('english')\n",
    "\n",
    "\n",
    "#...Function to replace old pattern with new pattern\n",
    "def pattern_replacement(pattern, tweet, replacement):\n",
    "    r = re.findall('\"' + pattern + '[\\w]*\"', tweet)\n",
    "    for i in r:\n",
    "        tweet = re.sub(i, replacement, tweet)\n",
    "    return tweet;"
   ]
  },
  {
   "cell_type": "code",
   "execution_count": null,
   "metadata": {},
   "outputs": [],
   "source": [
    "df = pd.read_csv('./train_E6oV3lV.csv')\n",
    "len_df = len(df)\n",
    "for index in range(len_df):\n",
    "    if index % 100 ==0:\n",
    "        print (index)\n",
    "    tweet = df.iloc[index]['tweet']\n",
    "\n",
    "    #...Removing @Users from the tweet\n",
    "    tweet = pattern_replacement('@', tweet, '')\n",
    "\n",
    "    #...Removing non-alphabets from the tweet\n",
    "    r = re.findall(\"[^A-Za-z]\", tweet)\n",
    "    for i in r:\n",
    "        tweet = tweet.replace(i, \" \")\n",
    "\n",
    "    #...Removing preposiitons, conjuctions and pronouns from the tweet\n",
    "    words = nltk.word_tokenize(tweet)\n",
    "    tags = nltk.pos_tag(words)\n",
    "    #Tags_list = pd.read_html('http://www.ling.upenn.edu/courses/Fall_2003/ling001/penn_treebank_pos.html')[0][1]\n",
    "    del_tags = ['PRP','DT','CC', 'IN', 'PRP$', 'VBP', 'NNP', 'VBZ', 'VB', 'MD', 'RB', 'VBD', 'WP', 'CD', 'WRB', 'WDT']\n",
    "\n",
    "    new_tags = []\n",
    "    for ord_pair in tags:\n",
    "        if ord_pair[1] not in del_tags and len(ord_pair[0]) > 3:\n",
    "            #new_tags.append(stemmer.stem(ord_pair[0]))\n",
    "            new_tags.append(ord_pair[0])\n",
    "\n",
    "    #...Removing Stopwords from the tweet\n",
    "    new_tags = [w for w in new_tags if not w in stop_words]\n",
    "\n",
    "    tweet = \" \".join(new_tags)\n",
    "    #...Replacing the tweet in the DataFrame\n",
    "    df['tweet'][index] = tweet"
   ]
  },
  {
   "cell_type": "code",
   "execution_count": null,
   "metadata": {},
   "outputs": [],
   "source": [
    "df.to_csv('./Cleaned_Data.csv')"
   ]
  }
 ],
 "metadata": {
  "kernelspec": {
   "display_name": "Python 3",
   "language": "python",
   "name": "python3"
  },
  "language_info": {
   "codemirror_mode": {
    "name": "ipython",
    "version": 3
   },
   "file_extension": ".py",
   "mimetype": "text/x-python",
   "name": "python",
   "nbconvert_exporter": "python",
   "pygments_lexer": "ipython3",
   "version": "3.6.5"
  }
 },
 "nbformat": 4,
 "nbformat_minor": 2
}
